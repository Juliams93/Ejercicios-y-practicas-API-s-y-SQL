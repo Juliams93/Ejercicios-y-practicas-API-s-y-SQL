{
 "cells": [
  {
   "cell_type": "markdown",
   "metadata": {},
   "source": [
    "# Ejercicios de Selenium : La casa del libro."
   ]
  },
  {
   "cell_type": "code",
   "execution_count": 14,
   "metadata": {},
   "outputs": [],
   "source": [
    "import pandas as pd\n",
    "from selenium import webdriver\n",
    "from webdriver_manager.chrome import ChromeDriverManager\n",
    "from selenium.webdriver.common.keys import Keys\n",
    "from selenium.webdriver.support.ui import Select"
   ]
  },
  {
   "cell_type": "code",
   "execution_count": 15,
   "metadata": {},
   "outputs": [],
   "source": [
    "from time import sleep"
   ]
  },
  {
   "cell_type": "code",
   "execution_count": 16,
   "metadata": {},
   "outputs": [
    {
     "name": "stdout",
     "output_type": "stream",
     "text": [
      "Error al analizar el artículo 1: Message: invalid selector\n",
      "from javascript error: {\"status\":32,\"value\":\"An invalid or illegal selector was specified\"}\n",
      "  (Session info: chrome=131.0.6778.86); For documentation on this error, please visit: https://www.selenium.dev/documentation/webdriver/troubleshooting/errors#invalid-selector-exception\n",
      "Stacktrace:\n",
      "0   chromedriver                        0x00000001034ffac4 cxxbridge1$str$ptr + 3651580\n",
      "1   chromedriver                        0x00000001034f8314 cxxbridge1$str$ptr + 3620940\n",
      "2   chromedriver                        0x0000000102f604b4 cxxbridge1$string$len + 89224\n",
      "3   chromedriver                        0x0000000102f65398 cxxbridge1$string$len + 109420\n",
      "4   chromedriver                        0x0000000102f673e8 cxxbridge1$string$len + 117692\n",
      "5   chromedriver                        0x0000000102f67490 cxxbridge1$string$len + 117860\n",
      "6   chromedriver                        0x0000000102fa45dc cxxbridge1$string$len + 368048\n",
      "7   chromedriver                        0x0000000102fde0fc cxxbridge1$string$len + 604368\n",
      "8   chromedriver                        0x0000000102f990b0 cxxbridge1$string$len + 321668\n",
      "9   chromedriver                        0x0000000102f99d00 cxxbridge1$string$len + 324820\n",
      "10  chromedriver                        0x00000001034cae08 cxxbridge1$str$ptr + 3435328\n",
      "11  chromedriver                        0x00000001034ce120 cxxbridge1$str$ptr + 3448408\n",
      "12  chromedriver                        0x00000001034b217c cxxbridge1$str$ptr + 3333812\n",
      "13  chromedriver                        0x00000001034ce9e0 cxxbridge1$str$ptr + 3450648\n",
      "14  chromedriver                        0x00000001034a3988 cxxbridge1$str$ptr + 3274432\n",
      "15  chromedriver                        0x00000001034e90f4 cxxbridge1$str$ptr + 3558956\n",
      "16  chromedriver                        0x00000001034e9270 cxxbridge1$str$ptr + 3559336\n",
      "17  chromedriver                        0x00000001034f7f88 cxxbridge1$str$ptr + 3620032\n",
      "18  libsystem_pthread.dylib             0x0000000180d772e4 _pthread_start + 136\n",
      "19  libsystem_pthread.dylib             0x0000000180d720fc thread_start + 8\n",
      "\n"
     ]
    },
    {
     "ename": "KeyError",
     "evalue": "'precio'",
     "output_type": "error",
     "traceback": [
      "\u001b[0;31m---------------------------------------------------------------------------\u001b[0m",
      "\u001b[0;31mInvalidSelectorException\u001b[0m                  Traceback (most recent call last)",
      "Cell \u001b[0;32mIn[16], line 41\u001b[0m\n\u001b[1;32m     38\u001b[0m \u001b[38;5;28;01mtry\u001b[39;00m:\n\u001b[1;32m     39\u001b[0m     \n\u001b[1;32m     40\u001b[0m     \u001b[38;5;66;03m# Hacer clic en el producto\u001b[39;00m\n\u001b[0;32m---> 41\u001b[0m     driver\u001b[38;5;241m.\u001b[39mfind_element(\u001b[38;5;124m\"\u001b[39m\u001b[38;5;124mcss selector\u001b[39m\u001b[38;5;124m\"\u001b[39m, \u001b[38;5;124m\"\u001b[39m\u001b[38;5;124m#App > div.cma-components.container.d-grid.svelte-f3gp65 > cma-component:nth-child(5) > div > div > div.roller.svelte-uz7p48 > div:nth-child(\u001b[39m\u001b[38;5;132;01m{i}\u001b[39;00m\u001b[38;5;124m)\u001b[39m\u001b[38;5;124m\"\u001b[39m)\u001b[38;5;241m.\u001b[39mclick()\n\u001b[1;32m     43\u001b[0m     sleep(\u001b[38;5;241m5\u001b[39m)\n",
      "File \u001b[0;32m/opt/anaconda3/lib/python3.11/site-packages/selenium/webdriver/remote/webdriver.py:766\u001b[0m, in \u001b[0;36mWebDriver.find_element\u001b[0;34m(self, by, value)\u001b[0m\n\u001b[1;32m    764\u001b[0m     \u001b[38;5;28;01mreturn\u001b[39;00m elements[\u001b[38;5;241m0\u001b[39m]\n\u001b[0;32m--> 766\u001b[0m \u001b[38;5;28;01mreturn\u001b[39;00m \u001b[38;5;28mself\u001b[39m\u001b[38;5;241m.\u001b[39mexecute(Command\u001b[38;5;241m.\u001b[39mFIND_ELEMENT, {\u001b[38;5;124m\"\u001b[39m\u001b[38;5;124musing\u001b[39m\u001b[38;5;124m\"\u001b[39m: by, \u001b[38;5;124m\"\u001b[39m\u001b[38;5;124mvalue\u001b[39m\u001b[38;5;124m\"\u001b[39m: value})[\u001b[38;5;124m\"\u001b[39m\u001b[38;5;124mvalue\u001b[39m\u001b[38;5;124m\"\u001b[39m]\n",
      "File \u001b[0;32m/opt/anaconda3/lib/python3.11/site-packages/selenium/webdriver/remote/webdriver.py:380\u001b[0m, in \u001b[0;36mWebDriver.execute\u001b[0;34m(self, driver_command, params)\u001b[0m\n\u001b[1;32m    379\u001b[0m \u001b[38;5;28;01mif\u001b[39;00m response:\n\u001b[0;32m--> 380\u001b[0m     \u001b[38;5;28mself\u001b[39m\u001b[38;5;241m.\u001b[39merror_handler\u001b[38;5;241m.\u001b[39mcheck_response(response)\n\u001b[1;32m    381\u001b[0m     response[\u001b[38;5;124m\"\u001b[39m\u001b[38;5;124mvalue\u001b[39m\u001b[38;5;124m\"\u001b[39m] \u001b[38;5;241m=\u001b[39m \u001b[38;5;28mself\u001b[39m\u001b[38;5;241m.\u001b[39m_unwrap_value(response\u001b[38;5;241m.\u001b[39mget(\u001b[38;5;124m\"\u001b[39m\u001b[38;5;124mvalue\u001b[39m\u001b[38;5;124m\"\u001b[39m, \u001b[38;5;28;01mNone\u001b[39;00m))\n",
      "File \u001b[0;32m/opt/anaconda3/lib/python3.11/site-packages/selenium/webdriver/remote/errorhandler.py:229\u001b[0m, in \u001b[0;36mErrorHandler.check_response\u001b[0;34m(self, response)\u001b[0m\n\u001b[1;32m    228\u001b[0m     \u001b[38;5;28;01mraise\u001b[39;00m exception_class(message, screen, stacktrace, alert_text)  \u001b[38;5;66;03m# type: ignore[call-arg]  # mypy is not smart enough here\u001b[39;00m\n\u001b[0;32m--> 229\u001b[0m \u001b[38;5;28;01mraise\u001b[39;00m exception_class(message, screen, stacktrace)\n",
      "\u001b[0;31mInvalidSelectorException\u001b[0m: Message: invalid selector\nfrom javascript error: {\"status\":32,\"value\":\"An invalid or illegal selector was specified\"}\n  (Session info: chrome=131.0.6778.86); For documentation on this error, please visit: https://www.selenium.dev/documentation/webdriver/troubleshooting/errors#invalid-selector-exception\nStacktrace:\n0   chromedriver                        0x00000001034ffac4 cxxbridge1$str$ptr + 3651580\n1   chromedriver                        0x00000001034f8314 cxxbridge1$str$ptr + 3620940\n2   chromedriver                        0x0000000102f604b4 cxxbridge1$string$len + 89224\n3   chromedriver                        0x0000000102f65398 cxxbridge1$string$len + 109420\n4   chromedriver                        0x0000000102f673e8 cxxbridge1$string$len + 117692\n5   chromedriver                        0x0000000102f67490 cxxbridge1$string$len + 117860\n6   chromedriver                        0x0000000102fa45dc cxxbridge1$string$len + 368048\n7   chromedriver                        0x0000000102fde0fc cxxbridge1$string$len + 604368\n8   chromedriver                        0x0000000102f990b0 cxxbridge1$string$len + 321668\n9   chromedriver                        0x0000000102f99d00 cxxbridge1$string$len + 324820\n10  chromedriver                        0x00000001034cae08 cxxbridge1$str$ptr + 3435328\n11  chromedriver                        0x00000001034ce120 cxxbridge1$str$ptr + 3448408\n12  chromedriver                        0x00000001034b217c cxxbridge1$str$ptr + 3333812\n13  chromedriver                        0x00000001034ce9e0 cxxbridge1$str$ptr + 3450648\n14  chromedriver                        0x00000001034a3988 cxxbridge1$str$ptr + 3274432\n15  chromedriver                        0x00000001034e90f4 cxxbridge1$str$ptr + 3558956\n16  chromedriver                        0x00000001034e9270 cxxbridge1$str$ptr + 3559336\n17  chromedriver                        0x00000001034f7f88 cxxbridge1$str$ptr + 3620032\n18  libsystem_pthread.dylib             0x0000000180d772e4 _pthread_start + 136\n19  libsystem_pthread.dylib             0x0000000180d720fc thread_start + 8\n",
      "\nDuring handling of the above exception, another exception occurred:\n",
      "\u001b[0;31mKeyError\u001b[0m                                  Traceback (most recent call last)",
      "Cell \u001b[0;32mIn[16], line 87\u001b[0m\n\u001b[1;32m     85\u001b[0m info_libros[\u001b[38;5;124m'\u001b[39m\u001b[38;5;124mnombre_libro\u001b[39m\u001b[38;5;124m'\u001b[39m]\u001b[38;5;241m.\u001b[39mappend(\u001b[38;5;124m\"\u001b[39m\u001b[38;5;124mNo info\u001b[39m\u001b[38;5;124m\"\u001b[39m)\n\u001b[1;32m     86\u001b[0m info_libros[\u001b[38;5;124m'\u001b[39m\u001b[38;5;124mescritor\u001b[39m\u001b[38;5;124m'\u001b[39m]\u001b[38;5;241m.\u001b[39mappend(\u001b[38;5;124m\"\u001b[39m\u001b[38;5;124mNo info\u001b[39m\u001b[38;5;124m\"\u001b[39m)\n\u001b[0;32m---> 87\u001b[0m info_libros[\u001b[38;5;124m'\u001b[39m\u001b[38;5;124mprecio\u001b[39m\u001b[38;5;124m'\u001b[39m]\u001b[38;5;241m.\u001b[39mappend(\u001b[38;5;124m\"\u001b[39m\u001b[38;5;124mNo info\u001b[39m\u001b[38;5;124m\"\u001b[39m)\n\u001b[1;32m     88\u001b[0m info_libros[\u001b[38;5;124m'\u001b[39m\u001b[38;5;124mlenguaje\u001b[39m\u001b[38;5;124m'\u001b[39m]\u001b[38;5;241m.\u001b[39mappend(\u001b[38;5;124m\"\u001b[39m\u001b[38;5;124mNo info\u001b[39m\u001b[38;5;124m\"\u001b[39m)\n\u001b[1;32m     89\u001b[0m info_libros[\u001b[38;5;124m'\u001b[39m\u001b[38;5;124mcantidad_paginas\u001b[39m\u001b[38;5;124m'\u001b[39m]\u001b[38;5;241m.\u001b[39mappend[\u001b[38;5;124m\"\u001b[39m\u001b[38;5;124mNo info\u001b[39m\u001b[38;5;124m\"\u001b[39m]\n",
      "\u001b[0;31mKeyError\u001b[0m: 'precio'"
     ]
    }
   ],
   "source": [
    "# Configuración del navegador\n",
    "driver = webdriver.Chrome()  # Abrir navegador\n",
    "\n",
    "sleep(3)\n",
    "\n",
    "# Abrir la página de Casa del Libro\n",
    "driver.get(\"https://www.casadellibro.com\")\n",
    "\n",
    "sleep(2)\n",
    "\n",
    "# Maximizar ventana\n",
    "driver.maximize_window()\n",
    "\n",
    "sleep(3)\n",
    "\n",
    "driver.find_element('css selector', '#onetrust-accept-btn-handler').click() # Confirmar cookies para seguir\n",
    "\n",
    "sleep(3)\n",
    "\n",
    "# Extracción de Datos de las 5 Primeras Páginas:\n",
    "\n",
    "#  Solicitar al usuario la búsqueda\n",
    "eleccion_usuario = input(\"¿Qué quieres buscar?\")\n",
    "\n",
    "sleep(3)\n",
    "\n",
    "#  Utilizamos entrada de texto para buscar resultado\n",
    "\n",
    "driver.find_element('xpath', '//*[@id=\"empathy-search\"]').send_keys(eleccion_usuario, Keys.ENTER)\n",
    "\n",
    "sleep(5)\n",
    "\n",
    "\n",
    "# Creamos un diccionario para almacenar los resultados\n",
    "info_libros = {'nombre_libro': [], 'escritor': [], 'precio': [], 'editorial': [], 'lenguaje': [], 'cantidad_paginas': []}\n",
    "\n",
    "for i in range(1, 5):   \n",
    "    try:\n",
    "        \n",
    "        # Hacer clic en el producto\n",
    "        driver.find_element(\"css selector\", \"#App > div.cma-components.container.d-grid.svelte-f3gp65 > cma-component:nth-child(5) > div > div > div.roller.svelte-uz7p48 > div:nth-child({i})\").click()\n",
    "\n",
    "        sleep(5)\n",
    "                            \n",
    "        try:\n",
    "            nombre_libro = driver.find_element(\"css selector\", \"#App > div.cma-components.container.d-grid.svelte-f3gp65 > cma-component:nth-child(1) > div > area-2 > h1 > span.titleProducto.mt-2\").text\n",
    "            \n",
    "        except:    \n",
    "            nombre_libro = 'No info'\n",
    "        info_libros['nombre_libro'].append(nombre_libro)\n",
    "\n",
    "        try:\n",
    "            escritor = driver.find_element(\"css selector\", \"#App > div.cma-components.container.d-grid.svelte-f3gp65 > cma-component:nth-child(1) > div > area-2 > div.f-serif.s-7-text.f-fluid-1 > p > a\").text\n",
    "        except:\n",
    "            escritor = 'No info'\n",
    "        info_libros['escritor'].append(escritor)\n",
    "\n",
    "        try:\n",
    "            precio = driver.find_element(\"css selector\", \"#App > div.cma-components.container.d-grid.svelte-f3gp65 > cma-component:nth-child(1) > div > area-5 > div.info-price.d-grid.svelte-1c4mio6 > p\").text\n",
    "        except:\n",
    "            precio = 'No info'\n",
    "        info_libros['precio'].append(precio)\n",
    "\n",
    "        try:\n",
    "            editorial = driver.find_element(\"css selector\", \"#App > div.cma-components.container.d-grid.svelte-f3gp65 > cma-component:nth-child(1) > div > area-2 > p\").text\n",
    "        except:\n",
    "            editorial = 'No info'\n",
    "        info_libros['editorial'].append(editorial)\n",
    "\n",
    "        try:\n",
    "            lenguaje = driver.find_element(\"css selector\", \"#App > div.cma-components.container.d-grid.svelte-f3gp65 > cma-component:nth-child(4) > div > div.caracteristicas.mt-4.svelte-1nm9gj6 > div:nth-child(3) > span\").text\n",
    "        except: \n",
    "            lenguaje = 'No info'\n",
    "        info_libros['lenguaje'].append(lenguaje)\n",
    "\n",
    "        try:\n",
    "            cantidad_paginas = driver.find_element(\"css selector\", \"#App > div.cma-components.container.d-grid.svelte-f3gp65 > cma-component:nth-child(4) > div > div.caracteristicas.mt-4.svelte-1nm9gj6 > div:nth-child(4) > span\").text\n",
    "        except:\n",
    "            cantidad_paginas = 'No info'\n",
    "        info_libros['cantidad_paginas'].append(cantidad_paginas)\n",
    "\n",
    "    except Exception as ex:\n",
    "        # En caso de error, agregar valores predeterminados para esta iteración\n",
    "        print(f\"Error al analizar el artículo {i}: {ex}\")\n",
    "        info_libros['nombre_libro'].append(\"No info\")\n",
    "        info_libros['escritor'].append(\"No info\")\n",
    "        info_libros['precio'].append(\"No info\")\n",
    "        info_libros['lenguaje'].append(\"No info\")\n",
    "        info_libros['cantidad_paginas'].append[\"No info\"]\n",
    "        driver.back()\n",
    "        sleep(3)\n",
    "        # Volver a la página principal si ocurre un error\n",
    "        driver.back()\n",
    "        sleep(2)\n",
    "\n",
    "\n",
    "# Volver a los resultados\n",
    "driver.back()\n",
    "sleep(2)\n",
    "\n",
    "# Cerrar navegador\n",
    "\n",
    "driver.close()"
   ]
  },
  {
   "cell_type": "code",
   "execution_count": null,
   "metadata": {},
   "outputs": [
    {
     "name": "stdout",
     "output_type": "stream",
     "text": [
      "{'Titulo': ['No info', 'No info', 'No info', 'No info'], 'Autor': ['No info', 'No info', 'No info', 'No info'], 'Precio': ['No info', 'No info', 'No info', 'No info'], 'Editorial': [], 'Idioma': [], 'NumeroPaginas': []}\n"
     ]
    },
    {
     "ename": "ValueError",
     "evalue": "All arrays must be of the same length",
     "output_type": "error",
     "traceback": [
      "\u001b[0;31m---------------------------------------------------------------------------\u001b[0m",
      "\u001b[0;31mValueError\u001b[0m                                Traceback (most recent call last)",
      "Cell \u001b[0;32mIn[41], line 2\u001b[0m\n\u001b[1;32m      1\u001b[0m \u001b[38;5;28mprint\u001b[39m(diccionario_resultados)\n\u001b[0;32m----> 2\u001b[0m df \u001b[38;5;241m=\u001b[39m pd\u001b[38;5;241m.\u001b[39mDataFrame(diccionario_resultados)\n\u001b[1;32m      3\u001b[0m df\n",
      "File \u001b[0;32m/opt/anaconda3/lib/python3.11/site-packages/pandas/core/frame.py:733\u001b[0m, in \u001b[0;36mDataFrame.__init__\u001b[0;34m(self, data, index, columns, dtype, copy)\u001b[0m\n\u001b[1;32m    727\u001b[0m     mgr \u001b[38;5;241m=\u001b[39m \u001b[38;5;28mself\u001b[39m\u001b[38;5;241m.\u001b[39m_init_mgr(\n\u001b[1;32m    728\u001b[0m         data, axes\u001b[38;5;241m=\u001b[39m{\u001b[38;5;124m\"\u001b[39m\u001b[38;5;124mindex\u001b[39m\u001b[38;5;124m\"\u001b[39m: index, \u001b[38;5;124m\"\u001b[39m\u001b[38;5;124mcolumns\u001b[39m\u001b[38;5;124m\"\u001b[39m: columns}, dtype\u001b[38;5;241m=\u001b[39mdtype, copy\u001b[38;5;241m=\u001b[39mcopy\n\u001b[1;32m    729\u001b[0m     )\n\u001b[1;32m    731\u001b[0m \u001b[38;5;28;01melif\u001b[39;00m \u001b[38;5;28misinstance\u001b[39m(data, \u001b[38;5;28mdict\u001b[39m):\n\u001b[1;32m    732\u001b[0m     \u001b[38;5;66;03m# GH#38939 de facto copy defaults to False only in non-dict cases\u001b[39;00m\n\u001b[0;32m--> 733\u001b[0m     mgr \u001b[38;5;241m=\u001b[39m dict_to_mgr(data, index, columns, dtype\u001b[38;5;241m=\u001b[39mdtype, copy\u001b[38;5;241m=\u001b[39mcopy, typ\u001b[38;5;241m=\u001b[39mmanager)\n\u001b[1;32m    734\u001b[0m \u001b[38;5;28;01melif\u001b[39;00m \u001b[38;5;28misinstance\u001b[39m(data, ma\u001b[38;5;241m.\u001b[39mMaskedArray):\n\u001b[1;32m    735\u001b[0m     \u001b[38;5;28;01mfrom\u001b[39;00m \u001b[38;5;21;01mnumpy\u001b[39;00m\u001b[38;5;21;01m.\u001b[39;00m\u001b[38;5;21;01mma\u001b[39;00m \u001b[38;5;28;01mimport\u001b[39;00m mrecords\n",
      "File \u001b[0;32m/opt/anaconda3/lib/python3.11/site-packages/pandas/core/internals/construction.py:503\u001b[0m, in \u001b[0;36mdict_to_mgr\u001b[0;34m(data, index, columns, dtype, typ, copy)\u001b[0m\n\u001b[1;32m    499\u001b[0m     \u001b[38;5;28;01melse\u001b[39;00m:\n\u001b[1;32m    500\u001b[0m         \u001b[38;5;66;03m# dtype check to exclude e.g. range objects, scalars\u001b[39;00m\n\u001b[1;32m    501\u001b[0m         arrays \u001b[38;5;241m=\u001b[39m [x\u001b[38;5;241m.\u001b[39mcopy() \u001b[38;5;28;01mif\u001b[39;00m \u001b[38;5;28mhasattr\u001b[39m(x, \u001b[38;5;124m\"\u001b[39m\u001b[38;5;124mdtype\u001b[39m\u001b[38;5;124m\"\u001b[39m) \u001b[38;5;28;01melse\u001b[39;00m x \u001b[38;5;28;01mfor\u001b[39;00m x \u001b[38;5;129;01min\u001b[39;00m arrays]\n\u001b[0;32m--> 503\u001b[0m \u001b[38;5;28;01mreturn\u001b[39;00m arrays_to_mgr(arrays, columns, index, dtype\u001b[38;5;241m=\u001b[39mdtype, typ\u001b[38;5;241m=\u001b[39mtyp, consolidate\u001b[38;5;241m=\u001b[39mcopy)\n",
      "File \u001b[0;32m/opt/anaconda3/lib/python3.11/site-packages/pandas/core/internals/construction.py:114\u001b[0m, in \u001b[0;36marrays_to_mgr\u001b[0;34m(arrays, columns, index, dtype, verify_integrity, typ, consolidate)\u001b[0m\n\u001b[1;32m    111\u001b[0m \u001b[38;5;28;01mif\u001b[39;00m verify_integrity:\n\u001b[1;32m    112\u001b[0m     \u001b[38;5;66;03m# figure out the index, if necessary\u001b[39;00m\n\u001b[1;32m    113\u001b[0m     \u001b[38;5;28;01mif\u001b[39;00m index \u001b[38;5;129;01mis\u001b[39;00m \u001b[38;5;28;01mNone\u001b[39;00m:\n\u001b[0;32m--> 114\u001b[0m         index \u001b[38;5;241m=\u001b[39m _extract_index(arrays)\n\u001b[1;32m    115\u001b[0m     \u001b[38;5;28;01melse\u001b[39;00m:\n\u001b[1;32m    116\u001b[0m         index \u001b[38;5;241m=\u001b[39m ensure_index(index)\n",
      "File \u001b[0;32m/opt/anaconda3/lib/python3.11/site-packages/pandas/core/internals/construction.py:677\u001b[0m, in \u001b[0;36m_extract_index\u001b[0;34m(data)\u001b[0m\n\u001b[1;32m    675\u001b[0m lengths \u001b[38;5;241m=\u001b[39m \u001b[38;5;28mlist\u001b[39m(\u001b[38;5;28mset\u001b[39m(raw_lengths))\n\u001b[1;32m    676\u001b[0m \u001b[38;5;28;01mif\u001b[39;00m \u001b[38;5;28mlen\u001b[39m(lengths) \u001b[38;5;241m>\u001b[39m \u001b[38;5;241m1\u001b[39m:\n\u001b[0;32m--> 677\u001b[0m     \u001b[38;5;28;01mraise\u001b[39;00m \u001b[38;5;167;01mValueError\u001b[39;00m(\u001b[38;5;124m\"\u001b[39m\u001b[38;5;124mAll arrays must be of the same length\u001b[39m\u001b[38;5;124m\"\u001b[39m)\n\u001b[1;32m    679\u001b[0m \u001b[38;5;28;01mif\u001b[39;00m have_dicts:\n\u001b[1;32m    680\u001b[0m     \u001b[38;5;28;01mraise\u001b[39;00m \u001b[38;5;167;01mValueError\u001b[39;00m(\n\u001b[1;32m    681\u001b[0m         \u001b[38;5;124m\"\u001b[39m\u001b[38;5;124mMixing dicts with non-Series may lead to ambiguous ordering.\u001b[39m\u001b[38;5;124m\"\u001b[39m\n\u001b[1;32m    682\u001b[0m     )\n",
      "\u001b[0;31mValueError\u001b[0m: All arrays must be of the same length"
     ]
    }
   ],
   "source": [
    "print(info_libros)\n",
    "df = pd.DataFrame(info_libros)\n",
    "df"
   ]
  }
 ],
 "metadata": {
  "kernelspec": {
   "display_name": "base",
   "language": "python",
   "name": "python3"
  },
  "language_info": {
   "codemirror_mode": {
    "name": "ipython",
    "version": 3
   },
   "file_extension": ".py",
   "mimetype": "text/x-python",
   "name": "python",
   "nbconvert_exporter": "python",
   "pygments_lexer": "ipython3",
   "version": "3.11.9"
  }
 },
 "nbformat": 4,
 "nbformat_minor": 2
}
