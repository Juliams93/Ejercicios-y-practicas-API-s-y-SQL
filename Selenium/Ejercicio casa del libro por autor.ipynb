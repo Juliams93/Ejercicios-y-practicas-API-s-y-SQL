{
 "cells": [
  {
   "cell_type": "markdown",
   "metadata": {},
   "source": [
    "# Ejercicios de Selenium : La casa del libro."
   ]
  },
  {
   "cell_type": "code",
   "execution_count": 9,
   "metadata": {},
   "outputs": [],
   "source": [
    "from selenium import webdriver\n",
    "from selenium.webdriver.common.by import By\n",
    "from selenium.webdriver.support.ui import WebDriverWait\n",
    "from selenium.webdriver.support import expected_conditions as EC\n",
    "from selenium.webdriver.common.keys import Keys\n",
    "import pandas as pd"
   ]
  },
  {
   "cell_type": "code",
   "execution_count": 10,
   "metadata": {},
   "outputs": [
    {
     "name": "stdout",
     "output_type": "stream",
     "text": [
      "Resultados disponibles: 0\n",
      "No se encontraron resultados. Verifica tu término de búsqueda o ajusta el código.\n"
     ]
    }
   ],
   "source": [
    "# Configuración inicial\n",
    "navegador = webdriver.Chrome()\n",
    "navegador.get(\"https://www.casadellibro.com\")\n",
    "navegador.maximize_window()\n",
    "\n",
    "# Aceptar cookies\n",
    "try:\n",
    "    WebDriverWait(navegador, 10).until(\n",
    "        EC.element_to_be_clickable((By.CSS_SELECTOR, '#onetrust-accept-btn-handler'))\n",
    "    ).click()\n",
    "except Exception as ex:\n",
    "    print(\"No se pudo aceptar cookies:\", ex)\n",
    "\n",
    "# Entrada del usuario\n",
    "autor_usuario = input(\"Introduce el nombre del autor que quieres buscar: \")\n",
    "busqueda = navegador.find_element(By.XPATH, '//*[@id=\"empathy-search\"]')\n",
    "busqueda.send_keys(autor_usuario)\n",
    "busqueda.send_keys(Keys.ENTER)\n",
    "\n",
    "# Esperar que los resultados se carguen\n",
    "try:\n",
    "    WebDriverWait(navegador, 10).until(\n",
    "        EC.presence_of_element_located((By.CLASS_NAME, 'roller'))\n",
    "    )\n",
    "except Exception as ex:\n",
    "    print(\"No se encontraron resultados visibles:\", ex)\n",
    "    navegador.quit()\n",
    "\n",
    "# Contar los resultados disponibles\n",
    "resultados_disponibles = len(navegador.find_elements(By.XPATH, \"//div[@class='roller']//div\"))\n",
    "print(f\"Resultados disponibles: {resultados_disponibles}\")\n",
    "\n",
    "if resultados_disponibles == 0:\n",
    "    print(\"No se encontraron resultados. Verifica tu término de búsqueda o ajusta el código.\")\n",
    "    navegador.quit()\n",
    "\n",
    "# Diccionario para guardar resultados\n",
    "info_libros = {'Titulo': [], 'Autor': [], 'Precio': [], 'Editorial': []}\n",
    "\n",
    "# Iterar según los resultados disponibles\n",
    "for i in range(1, resultados_disponibles + 1):\n",
    "    try:\n",
    "        # Seleccionar producto\n",
    "        WebDriverWait(navegador, 10).until(\n",
    "            EC.element_to_be_clickable((By.XPATH, f\"(//div[@class='roller']//div)[{i}]\"))\n",
    "        ).click()\n",
    "        sleep(2)\n",
    "\n",
    "        # Extraer datos\n",
    "        titulo = navegador.find_element(By.CSS_SELECTOR, '.titleProducto').text\n",
    "        autor = navegador.find_element(By.CSS_SELECTOR, '.f-serif a').text\n",
    "        precio = navegador.find_element(By.CSS_SELECTOR, '.info-price p').text\n",
    "        editorial = navegador.find_element(By.CSS_SELECTOR, '.area-2 p').text\n",
    "\n",
    "        # Guardar solo si coincide con el autor\n",
    "        if autor_usuario.lower() in autor.lower():\n",
    "            info_libros['Titulo'].append(titulo)\n",
    "            info_libros['Autor'].append(autor)\n",
    "            info_libros['Precio'].append(precio)\n",
    "            info_libros['Editorial'].append(editorial)\n",
    "\n",
    "        # Volver a la página principal de resultados\n",
    "        navegador.back()\n",
    "        WebDriverWait(navegador, 10).until(\n",
    "            EC.presence_of_element_located((By.CLASS_NAME, 'roller'))\n",
    "        )\n",
    "    except Exception as ex:\n",
    "        print(f\"Error al analizar el artículo {i}: {ex}\")\n",
    "        navegador.back()\n",
    "        sleep(2)\n",
    "        WebDriverWait(navegador, 10).until(\n",
    "            EC.presence_of_element_located((By.CLASS_NAME, 'roller'))\n",
    "        )   \n"
   ]
  },
  {
   "cell_type": "code",
   "execution_count": 11,
   "metadata": {},
   "outputs": [
    {
     "name": "stdout",
     "output_type": "stream",
     "text": [
      "Empty DataFrame\n",
      "Columns: [Titulo, Autor, Precio, Editorial]\n",
      "Index: []\n"
     ]
    }
   ],
   "source": [
    "# Crear DataFrame y mostrar\n",
    "df = pd.DataFrame(info_libros)\n",
    "print(df)\n",
    "\n",
    "# Cerrar navegador\n",
    "navegador.quit()"
   ]
  }
 ],
 "metadata": {
  "kernelspec": {
   "display_name": "base",
   "language": "python",
   "name": "python3"
  },
  "language_info": {
   "codemirror_mode": {
    "name": "ipython",
    "version": 3
   },
   "file_extension": ".py",
   "mimetype": "text/x-python",
   "name": "python",
   "nbconvert_exporter": "python",
   "pygments_lexer": "ipython3",
   "version": "3.11.9"
  }
 },
 "nbformat": 4,
 "nbformat_minor": 2
}
